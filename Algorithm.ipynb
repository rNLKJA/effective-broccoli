{
 "cells": [
  {
   "cell_type": "markdown",
   "id": "df7453a4-ca73-437f-b561-a8ab51bd894e",
   "metadata": {},
   "source": [
    "# Algorithm"
   ]
  },
  {
   "cell_type": "code",
   "execution_count": 1,
   "id": "68c55748-2e97-4006-bcd1-d0e9e238eb98",
   "metadata": {
    "execution": {
     "iopub.execute_input": "2022-02-28T02:18:39.883896Z",
     "iopub.status.busy": "2022-02-28T02:18:39.883650Z",
     "iopub.status.idle": "2022-02-28T02:18:39.888702Z",
     "shell.execute_reply": "2022-02-28T02:18:39.888095Z",
     "shell.execute_reply.started": "2022-02-28T02:18:39.883849Z"
    }
   },
   "outputs": [],
   "source": [
    "## Run this cell first, import required libraires\n",
    "from typing import List, Optional\n",
    "import random"
   ]
  },
  {
   "cell_type": "markdown",
   "id": "68cd0f76-f8a1-480d-ab50-a8db2bcb26b1",
   "metadata": {
    "jp-MarkdownHeadingCollapsed": true,
    "tags": []
   },
   "source": [
    "## 1. Two Sum"
   ]
  },
  {
   "cell_type": "markdown",
   "id": "488ad1c1-a0bc-4ea4-8f58-d1e2eb02b1ae",
   "metadata": {
    "jp-MarkdownHeadingCollapsed": true,
    "tags": []
   },
   "source": [
    "Given an array of integers nums and an integer target, return indices of the two numbers such that they add up to target.\n",
    "\n",
    "You may assume that each input would have exactly one solution, and you may not use the same element twice.\n",
    "\n",
    "You can return the answer in any order.\n",
    "\n",
    "**Example 1:**\n",
    "\n",
    "```\n",
    "Input: nums = [2,7,11,15], target = 9\n",
    "Output: [0,1]\n",
    "Output: Because nums[0] + nums[1] == 9, we return [0, 1].\n",
    "```\n",
    "\n",
    "**Example 2:**\n",
    "\n",
    "```\n",
    "Input: nums = [3,2,4], target = 6\n",
    "Output: [1,2]\n",
    "```\n",
    "\n",
    "**Example 3:**\n",
    "\n",
    "```\n",
    "Input: nums = [3,3], target = 6\n",
    "Output: [0,1]\n",
    "```\n",
    "\n",
    "**Constraints:**\n",
    "- 2 <= nums.length <= 104\n",
    "- 109 <= nums[i] <= 109\n",
    "- 109 <= target <= 109\n",
    "- **Only one valid answer exists.**\n",
    " \n",
    "Follow-up: Can you come up with an algorithm that is less than $O(n^2)$ time complexity?"
   ]
  },
  {
   "cell_type": "code",
   "execution_count": 36,
   "id": "1b51967f-ba90-43c3-8dfe-db48b57cf423",
   "metadata": {},
   "outputs": [],
   "source": [
    "# define the sample\n",
    "example = {\n",
    "    \"s1\": {\"nums\": [2, 7, 11, 15],\"target\": 9},\n",
    "    \"s2\": {\"nums\": [3, 2, 4],\"target\": 6},\n",
    "    \"s3\": {\"nums\": [3, 3], \"target\": 6}\n",
    "}"
   ]
  },
  {
   "cell_type": "code",
   "execution_count": 61,
   "id": "d18acba8-5ea2-4db3-b0d1-854551f3d8ce",
   "metadata": {},
   "outputs": [],
   "source": [
    "class Solution:\n",
    "    # brutal force approach\n",
    "    def twoSum1(nums: List[int], target: int) -> List[int]:\n",
    "        for i in range(len(nums)):\n",
    "            for j in range(1, len(nums)):\n",
    "                if nums[i] + nums[j] == target and i != j:\n",
    "                    return [i, j]\n",
    "                \n",
    "    # random select initial value\n",
    "    def twoSum2(nums: List[int], target: int) -> List[int]:\n",
    "        # obtain array length\n",
    "        arrLen = len(nums)\n",
    "        \n",
    "        # if nums has length < 2, then return index [0]\n",
    "        if arrLen < 2:\n",
    "            return [0]\n",
    "        \n",
    "        # if nums has length == 2, then return index [0, 1]\n",
    "        if arrLen == 2:\n",
    "            return [0, 1]\n",
    "        \n",
    "        # garbage collection\n",
    "        usedIndex = []\n",
    "        \n",
    "        while(len(usedIndex) != arrLen):\n",
    "            # randomly select a item from the list\n",
    "            currNum = random.choice(nums)\n",
    "            currIndex = nums.index(currNum)\n",
    "          \n",
    "            if currIndex not in usedIndex:        \n",
    "                for i in range(arrLen):\n",
    "                    if i != currIndex and (nums[i] + currNum) == target:\n",
    "                        return sorted([currIndex, i])\n",
    "            \n",
    "                # select another index\n",
    "                usedIndex.append(currIndex)\n",
    "    \n",
    "    # dictionary approach\n",
    "    def twoSum3(nums: List[int], target: int) -> List[int]:\n",
    "        seen = {}\n",
    "        \n",
    "        for i, num in enumerate(nums):\n",
    "            if target - num in seen:\n",
    "                return ([seen[target - num], i])\n",
    "            elif num not in seen:\n",
    "                seen[num] = i"
   ]
  },
  {
   "cell_type": "code",
   "execution_count": 58,
   "id": "e66ad4af-6251-4dc7-a3a1-a6d636d1fa6b",
   "metadata": {},
   "outputs": [
    {
     "data": {
      "text/plain": [
       "[0, 1]"
      ]
     },
     "metadata": {},
     "output_type": "display_data"
    },
    {
     "data": {
      "text/plain": [
       "[1, 2]"
      ]
     },
     "metadata": {},
     "output_type": "display_data"
    },
    {
     "data": {
      "text/plain": [
       "[0, 1]"
      ]
     },
     "metadata": {},
     "output_type": "display_data"
    },
    {
     "name": "stdout",
     "output_type": "stream",
     "text": [
      "Wall time: 2 ms\n"
     ]
    }
   ],
   "source": [
    "%%time\n",
    "display(Solution.twoSum1(nums=example['s1']['nums'], target=example['s1']['target']))\n",
    "display(Solution.twoSum1(nums=example['s2']['nums'], target=example['s2']['target']))\n",
    "display(Solution.twoSum1(nums=example['s3']['nums'], target=example['s3']['target']))"
   ]
  },
  {
   "cell_type": "code",
   "execution_count": 59,
   "id": "ef4f3e03-465d-4849-8019-6a86ecda5420",
   "metadata": {},
   "outputs": [
    {
     "data": {
      "text/plain": [
       "[0, 1]"
      ]
     },
     "metadata": {},
     "output_type": "display_data"
    },
    {
     "data": {
      "text/plain": [
       "[1, 2]"
      ]
     },
     "metadata": {},
     "output_type": "display_data"
    },
    {
     "data": {
      "text/plain": [
       "[0, 1]"
      ]
     },
     "metadata": {},
     "output_type": "display_data"
    },
    {
     "name": "stdout",
     "output_type": "stream",
     "text": [
      "Wall time: 3 ms\n"
     ]
    }
   ],
   "source": [
    "%%time\n",
    "display(Solution.twoSum2(nums=example['s1']['nums'], target=example['s1']['target']))\n",
    "display(Solution.twoSum2(nums=example['s2']['nums'], target=example['s2']['target']))\n",
    "display(Solution.twoSum2(nums=example['s3']['nums'], target=example['s3']['target']))"
   ]
  },
  {
   "cell_type": "code",
   "execution_count": 62,
   "id": "e4982567-25c9-46b5-a05b-cf0d864491ef",
   "metadata": {},
   "outputs": [
    {
     "data": {
      "text/plain": [
       "[0, 1]"
      ]
     },
     "metadata": {},
     "output_type": "display_data"
    },
    {
     "data": {
      "text/plain": [
       "[1, 2]"
      ]
     },
     "metadata": {},
     "output_type": "display_data"
    },
    {
     "data": {
      "text/plain": [
       "[0, 1]"
      ]
     },
     "metadata": {},
     "output_type": "display_data"
    },
    {
     "name": "stdout",
     "output_type": "stream",
     "text": [
      "Wall time: 2.99 ms\n"
     ]
    }
   ],
   "source": [
    "%%time\n",
    "display(Solution.twoSum3(nums=example['s1']['nums'], target=example['s1']['target']))\n",
    "display(Solution.twoSum3(nums=example['s2']['nums'], target=example['s2']['target']))\n",
    "display(Solution.twoSum3(nums=example['s3']['nums'], target=example['s3']['target']))"
   ]
  },
  {
   "cell_type": "markdown",
   "id": "c2cc4122-d731-495b-b818-28b853d712a0",
   "metadata": {
    "jp-MarkdownHeadingCollapsed": true,
    "tags": []
   },
   "source": [
    "## 2. Add Two Numbers"
   ]
  },
  {
   "cell_type": "markdown",
   "id": "2fc8a1cc-4f5d-4938-8f3b-6951dc0eec17",
   "metadata": {},
   "source": [
    "You are given two non-empty linked lists representing two non-negative integers. The digits are stored in reverse order, and each of their nodes contains a single digit. Add the two numbers and return the sum as a linked list.\n",
    "\n",
    "You may assume the two numbers do not contain any leading zero, except the number 0 itself.\n",
    "\n",
    "**Example 1:**\n",
    "\n",
    "<img src='Images/2.addtwonumber1.jpg' align=center alt='2. Add Two Numbers Example 1' witdh='100px' height='100px'></img>\n",
    "\n",
    "```\n",
    "Input: l1 = [2,4,3], l2 = [5,6,4]\n",
    "Output: [7,0,8]\n",
    "Explanation: 342 + 465 = 807.\n",
    "```\n",
    "\n",
    "**Example 2:**\n",
    "```\n",
    "Input: l1 = [0], l2 = [0]\n",
    "Output: [0]\n",
    "```\n",
    "\n",
    "**Example 3:**\n",
    "```\n",
    "Input: l1 = [9,9,9,9,9,9,9], l2 = [9,9,9,9]\n",
    "Output: [8,9,9,9,0,0,0,1]\n",
    "```\n",
    "\n",
    "**Constraints:**\n",
    "- The number of nodes in each linked list is in the range [1, 100].\n",
    "- 0 <= Node.val <= 9\n",
    "- It is guaranteed that the list represents a number that does not have leading zeros."
   ]
  },
  {
   "cell_type": "code",
   "execution_count": 78,
   "id": "92446681-9487-4dfb-b308-b45d157dcde0",
   "metadata": {},
   "outputs": [],
   "source": [
    "# define the sample\n",
    "example = {\n",
    "    \"s1\": {'l1': ListNode(2, ListNode(4, ListNode(3))), \n",
    "           'l2': ListNode(5, ListNode(6, ListNode(4))), \n",
    "           'output': ListNode(7, ListNode(0, ListNode(8)))},\n",
    "    \"s2\": {'l1': ListNode(0), 'l2': ListNode(0), 'output': ListNode(0)},\n",
    "    \"s3\": {'l1': ListNode(9, ListNode(9, ListNode(9, ListNode(9, ListNode(9, ListNode(9, ListNode(9))))))), \n",
    "           'l2': ListNode(9, ListNode(9, ListNode(9, ListNode(9)))), \n",
    "           'output': ListNode(8, ListNode(9, ListNode(9, ListNode(9, ListNode(0, ListNode(0, ListNode(0, ListNode(1))))))))}\n",
    "}"
   ]
  },
  {
   "cell_type": "code",
   "execution_count": 73,
   "id": "4ff0c147-95ac-4070-b465-1bc47cb0bc98",
   "metadata": {},
   "outputs": [],
   "source": [
    "# Definition for singly-linked list.\n",
    "class ListNode:\n",
    "    def __init__(self, val=0, next=None):\n",
    "        self.val = val\n",
    "        self.next = next"
   ]
  },
  {
   "cell_type": "code",
   "execution_count": 105,
   "id": "3b7bc6fd-721f-4fb7-a8f4-815b34dbbe08",
   "metadata": {},
   "outputs": [],
   "source": [
    "class Solution:\n",
    "    def addTwoNumbers(self, l1: Optional[ListNode], l2: Optional[ListNode]) -> Optional[ListNode]:\n",
    "        dummy = ListNode()\n",
    "        curr = dummy\n",
    "        \n",
    "        carry = 0\n",
    "        \n",
    "        while l1 or l2:\n",
    "            v1 = l1.val if l1 else 0\n",
    "            v2 = l2.val if l2 else 0\n",
    "            \n",
    "            # compute new digit\n",
    "            val = v1 + v2 + carry\n",
    "\n",
    "            # re-compute carry number\n",
    "            carry = val // 10\n",
    "            val = val % 10\n",
    "            \n",
    "            curr.next = ListNode(val)\n",
    "        \n",
    "            # update current pointer\n",
    "            curr = curr.next\n",
    "            l1 = l1.next if l1 else None\n",
    "            l2 = l2.next if l2 else None\n",
    "\n",
    "        if carry == 0:\n",
    "            return dummy.next\n",
    "        else:\n",
    "            curr.next = ListNode(carry)\n",
    "            return dummy.next"
   ]
  },
  {
   "cell_type": "code",
   "execution_count": 106,
   "id": "dc4bc7dd-ec9f-4f30-a1a1-af22a19e0d56",
   "metadata": {
    "tags": []
   },
   "outputs": [
    {
     "data": {
      "text/plain": [
       "[7, 0, 8]"
      ]
     },
     "execution_count": 106,
     "metadata": {},
     "output_type": "execute_result"
    }
   ],
   "source": [
    "result = []\n",
    "curr = Solution().addTwoNumbers(example['s1']['l1'], example['s1']['l2'])\n",
    "while curr:\n",
    "    result.append(curr.val)\n",
    "    curr = curr.next\n",
    "result"
   ]
  },
  {
   "cell_type": "code",
   "execution_count": 107,
   "id": "7c2e40c7-5876-4879-a04f-d50cc19cfae5",
   "metadata": {},
   "outputs": [
    {
     "data": {
      "text/plain": [
       "[0]"
      ]
     },
     "execution_count": 107,
     "metadata": {},
     "output_type": "execute_result"
    }
   ],
   "source": [
    "result = []\n",
    "curr = Solution().addTwoNumbers(example['s2']['l1'], example['s2']['l2'])\n",
    "while curr:\n",
    "    result.append(curr.val)\n",
    "    curr = curr.next\n",
    "result"
   ]
  },
  {
   "cell_type": "code",
   "execution_count": 108,
   "id": "c172041d-02de-4416-8405-7fa2309aa934",
   "metadata": {},
   "outputs": [
    {
     "data": {
      "text/plain": [
       "[8, 9, 9, 9, 0, 0, 0, 1]"
      ]
     },
     "execution_count": 108,
     "metadata": {},
     "output_type": "execute_result"
    }
   ],
   "source": [
    "result = []\n",
    "curr = Solution().addTwoNumbers(example['s3']['l1'], example['s3']['l2'])\n",
    "while curr:\n",
    "    result.append(curr.val)\n",
    "    curr = curr.next\n",
    "result"
   ]
  },
  {
   "cell_type": "markdown",
   "id": "0dfe1cdb-8930-46b6-abda-98c098650236",
   "metadata": {
    "jp-MarkdownHeadingCollapsed": true,
    "tags": []
   },
   "source": [
    "## 3. Longest Substring Without Repeating Characters"
   ]
  },
  {
   "cell_type": "markdown",
   "id": "d232cf78-cbd5-42cc-8dee-e3e8db6b07aa",
   "metadata": {},
   "source": [
    "Given a string s, find the length of the **longest substring** without repeating characters.\n",
    "\n",
    "**Example 1:**\n",
    "```\n",
    "Input: s = \"abcabcbb\"\n",
    "Output: 3\n",
    "Explanation: The answer is \"abc\", with the length of 3.\n",
    "```\n",
    "\n",
    "**Example 2:**\n",
    "```\n",
    "Input: s = \"bbbbb\"\n",
    "Output: 1\n",
    "Explanation: The answer is \"b\", with the length of 1.\n",
    "```\n",
    "\n",
    "**Example 3:**\n",
    "```\n",
    "Input: s = \"pwwkew\"\n",
    "Output: 3\n",
    "Explanation: The answer is \"wke\", with the length of 3.\n",
    "Notice that the answer must be a substring, \"pwke\" is a subsequence and not a substring.\n",
    "```\n",
    "\n",
    "**Constraints:**\n",
    "- 0 <= s.length <= 5 * 104\n",
    "- s consists of English letters, digits, symbols and spaces."
   ]
  },
  {
   "cell_type": "code",
   "execution_count": 122,
   "id": "e5735c53-df51-4483-924b-c5a1a3be3672",
   "metadata": {},
   "outputs": [],
   "source": [
    "example = {\n",
    "    's1': {'s': 'abcabcbb', 'output': 3},\n",
    "    's2': {'s': 'bbbbb', 'output': 1},\n",
    "    's3': {'s': 'pwwkew', 'output': 3},\n",
    "}"
   ]
  },
  {
   "cell_type": "code",
   "execution_count": 126,
   "id": "6218b016-3fec-4d3d-b7ab-19df6eec8cf3",
   "metadata": {},
   "outputs": [],
   "source": [
    "class Solution:\n",
    "    def lengthOfLongestSubstring(self, s: str) -> int:\n",
    "        charSet = set()\n",
    "        \n",
    "        # determine the left pointer location\n",
    "        left = 0\n",
    "        res = 0\n",
    "        \n",
    "        for right in range(len(s)):\n",
    "            # print(charSet)\n",
    "            while s[right] in charSet:\n",
    "                charSet.remove(s[left])\n",
    "                left += 1\n",
    "            charSet.add(s[right])\n",
    "            res = max(res, right - left + 1)\n",
    "        return res"
   ]
  },
  {
   "cell_type": "code",
   "execution_count": 131,
   "id": "122c4923-6552-4ee5-9cae-091c9aab641f",
   "metadata": {},
   "outputs": [
    {
     "data": {
      "text/plain": [
       "True"
      ]
     },
     "metadata": {},
     "output_type": "display_data"
    },
    {
     "data": {
      "text/plain": [
       "True"
      ]
     },
     "metadata": {},
     "output_type": "display_data"
    },
    {
     "data": {
      "text/plain": [
       "True"
      ]
     },
     "metadata": {},
     "output_type": "display_data"
    }
   ],
   "source": [
    "display(Solution().lengthOfLongestSubstring(example['s1']['s']) is example['s1']['output']) \n",
    "display(Solution().lengthOfLongestSubstring(example['s2']['s']) is example['s2']['output'])\n",
    "display(Solution().lengthOfLongestSubstring(example['s3']['s']) is example['s3']['output']) "
   ]
  },
  {
   "cell_type": "markdown",
   "id": "c6e94d7b-d5ee-4a79-af94-971cc40a16bb",
   "metadata": {
    "jp-MarkdownHeadingCollapsed": true,
    "tags": []
   },
   "source": [
    "## 4. Median of Two Sorted Arrays"
   ]
  },
  {
   "cell_type": "markdown",
   "id": "8108f72b-e7cc-42bf-8176-501e77e95070",
   "metadata": {},
   "source": [
    "Given two sorted arrays nums1 and nums2 of size m and n respectively, return the median of the two sorted arrays.\n",
    "\n",
    "The overall run time complexity should be O(log (m+n)).\n",
    "\n",
    "**Example 1:**\n",
    "```\n",
    "Input: nums1 = [1,3], nums2 = [2]\n",
    "Output: 2.00000\n",
    "Explanation: merged array = [1,2,3] and median is 2.\n",
    "```\n",
    "\n",
    "**Example 2:**\n",
    "```\n",
    "Input: nums1 = [1,2], nums2 = [3,4]\n",
    "Output: 2.50000\n",
    "Explanation: merged array = [1,2,3,4] and median is (2 + 3) / 2 = 2.5.\n",
    "```\n",
    "\n",
    "**Constraints:**\n",
    "- nums1.length == m\n",
    "- nums2.length == n\n",
    "- 0 <= m <= 1000\n",
    "- 0 <= n <= 1000\n",
    "- 1 <= m + n <= 2000\n",
    "- -106 <= nums1[i], nums2[i] <= 106"
   ]
  },
  {
   "cell_type": "code",
   "execution_count": 3,
   "id": "443746b6-44ed-4941-b0c3-fa22a4fa2039",
   "metadata": {},
   "outputs": [],
   "source": [
    "class Solution:\n",
    "    def findMedianSortedArrays(self, nums1: List[int], nums2: List[int]) -> float:\n",
    "        A, B = nums1, nums2\n",
    "        # define the total array length and half array length\n",
    "        total = len(A) + len(B)\n",
    "        half = total // 2\n",
    "        \n",
    "        # swap the array if len(B) < len(A)\n",
    "        if len(B) < len(A):\n",
    "            A, B = B, A\n",
    "        \n",
    "        l, r = 0, len(A) - 1\n",
    "        \n",
    "        while True:\n",
    "            i = (l + r) // 2 # A\n",
    "            j = half - i - 2 # B\n",
    "            \n",
    "            Aleft = A[i] if i >= 0 else float(\"-infinity\")\n",
    "            Aright = A[i+1] if (i+1) < len(A) else float(\"infinity\")\n",
    "            Bleft = B[j] if j >= 0 else float(\"-infinity\")\n",
    "            Bright = B[j+1] if (j+1) < len(B) else float(\"infinity\")\n",
    "            \n",
    "            # partition is correct\n",
    "            if Aleft <= Bright and Bleft <= Aright:\n",
    "                if total % 2:\n",
    "                    return min(Aright, Bright)\n",
    "                return (max(Aleft, Bleft) + min(Aright, Bright)) / 2\n",
    "            elif Aleft > Bright:\n",
    "                r = i - 1\n",
    "            else:\n",
    "                l = i + 1"
   ]
  },
  {
   "cell_type": "code",
   "execution_count": 5,
   "id": "b70ee7d3-f531-4a86-82f2-fccf1596f3e7",
   "metadata": {},
   "outputs": [
    {
     "data": {
      "text/plain": [
       "2"
      ]
     },
     "execution_count": 5,
     "metadata": {},
     "output_type": "execute_result"
    }
   ],
   "source": [
    "Solution().findMedianSortedArrays(nums1=[1, 3], nums2=[2])"
   ]
  },
  {
   "cell_type": "code",
   "execution_count": 6,
   "id": "98bf7f9d-ddd7-4554-8af1-ee962efdaf6e",
   "metadata": {},
   "outputs": [
    {
     "data": {
      "text/plain": [
       "2.5"
      ]
     },
     "execution_count": 6,
     "metadata": {},
     "output_type": "execute_result"
    }
   ],
   "source": [
    "Solution().findMedianSortedArrays(nums1=[1, 2], nums2=[3, 4])"
   ]
  },
  {
   "cell_type": "markdown",
   "id": "571cd21a-45d3-42ba-93ec-86b116081e49",
   "metadata": {
    "jp-MarkdownHeadingCollapsed": true,
    "tags": []
   },
   "source": [
    "## 5. Longest Palindromic Substring\n"
   ]
  },
  {
   "cell_type": "markdown",
   "id": "58217207-a72b-4b6e-bf79-09f89828b287",
   "metadata": {},
   "source": [
    "\n",
    "Given a string `s`, return the longest palindromic substring in `s`.\n",
    "\n",
    "**Example 1:**\n",
    "```\n",
    "Input: s = \"babad\"\n",
    "Output: \"bab\"\n",
    "Explanation: \"aba\" is also a valid answer.\n",
    "```\n",
    "\n",
    "**Example 2:**\n",
    "```\n",
    "Input: s = \"cbbd\"\n",
    "Output: \"bb\"\n",
    "```\n",
    "\n",
    "**Constraints:**\n",
    "- 1 <= s.length <= 1000\n",
    "- s consist of only digits and English letters."
   ]
  },
  {
   "cell_type": "code",
   "execution_count": 13,
   "id": "8e038ce5-a0a5-4af3-bd34-d2a5c14aad80",
   "metadata": {
    "execution": {
     "iopub.execute_input": "2022-02-28T02:33:32.360594Z",
     "iopub.status.busy": "2022-02-28T02:33:32.360369Z",
     "iopub.status.idle": "2022-02-28T02:33:32.365096Z",
     "shell.execute_reply": "2022-02-28T02:33:32.364520Z",
     "shell.execute_reply.started": "2022-02-28T02:33:32.360576Z"
    },
    "tags": []
   },
   "outputs": [],
   "source": [
    "class Solution:\n",
    "    def longestPalindrome(self, s: str) -> str:\n",
    "        res, resLen = \"\", 0\n",
    "        \n",
    "        for i in range(len(s)):\n",
    "            l, r = i, i\n",
    "            while l >= 0 and r < len(s) and s[l] == s[r]:\n",
    "                if (r - l + 1) > resLen:\n",
    "                    res, resLen = s[l:r+1], r - l + 1\n",
    "                l -= 1\n",
    "                r += 1\n",
    "            \n",
    "            l, r = i, i + 1\n",
    "            while l >= 0 and r < len(s) and s[l] == s[r]:\n",
    "                if (r - l + 1) > resLen:\n",
    "                    res, resLen = s[l:r+1], r - l + 1\n",
    "                l -= 1\n",
    "                r += 1\n",
    "        return res"
   ]
  },
  {
   "cell_type": "code",
   "execution_count": 14,
   "id": "7d0a9895-bd14-4c94-b457-700e27aad904",
   "metadata": {
    "execution": {
     "iopub.execute_input": "2022-02-28T02:33:35.049513Z",
     "iopub.status.busy": "2022-02-28T02:33:35.049148Z",
     "iopub.status.idle": "2022-02-28T02:33:35.052945Z",
     "shell.execute_reply": "2022-02-28T02:33:35.052518Z",
     "shell.execute_reply.started": "2022-02-28T02:33:35.049496Z"
    },
    "tags": []
   },
   "outputs": [
    {
     "data": {
      "text/plain": [
       "'bab'"
      ]
     },
     "execution_count": 14,
     "metadata": {},
     "output_type": "execute_result"
    }
   ],
   "source": [
    "Solution().longestPalindrome(\"babad\")"
   ]
  },
  {
   "cell_type": "code",
   "execution_count": 15,
   "id": "8387dac4-0e43-4885-8bfa-e8daffab738d",
   "metadata": {
    "execution": {
     "iopub.execute_input": "2022-02-28T02:33:35.212552Z",
     "iopub.status.busy": "2022-02-28T02:33:35.212154Z",
     "iopub.status.idle": "2022-02-28T02:33:35.216171Z",
     "shell.execute_reply": "2022-02-28T02:33:35.215644Z",
     "shell.execute_reply.started": "2022-02-28T02:33:35.212535Z"
    },
    "tags": []
   },
   "outputs": [
    {
     "data": {
      "text/plain": [
       "'bb'"
      ]
     },
     "execution_count": 15,
     "metadata": {},
     "output_type": "execute_result"
    }
   ],
   "source": [
    "Solution().longestPalindrome(\"cbbd\")"
   ]
  },
  {
   "cell_type": "markdown",
   "id": "3d3a56c9-1122-42d4-bca0-013c6fae765c",
   "metadata": {
    "jp-MarkdownHeadingCollapsed": true,
    "tags": []
   },
   "source": [
    "## 6. Zigzag Conversion\n"
   ]
  },
  {
   "cell_type": "markdown",
   "id": "0379b4da-2098-4ea3-8ac5-c362ab42bb2a",
   "metadata": {},
   "source": [
    "The string `\"PAYPALISHIRING\"` is written in a zigzag pattern on a given number of rows like this: (you may want to display this pattern in a fixed font for better legibility)\n",
    "\n",
    "```\n",
    "P   A   H   N\n",
    "A P L S I I G\n",
    "Y   I   R\n",
    "```\n",
    "\n",
    "And then read line by line: `\"PAHNAPLSIIGYIR\"`\n",
    "\n",
    "Write the code that will take a string and make this conversion given a number of rows:\n",
    "\n",
    "```string convert(string s, int numRows);```\n",
    " \n",
    "\n",
    "**Example 1:**\n",
    "```\n",
    "Input: s = \"PAYPALISHIRING\", numRows = 3\n",
    "Output: \"PAHNAPLSIIGYIR\"\n",
    "```\n",
    "\n",
    "**Example 2:**\n",
    "```\n",
    "Input: s = \"PAYPALISHIRING\", numRows = 4\n",
    "Output: \"PINALSIGYAHRPI\"\n",
    "Explanation:\n",
    "P     I    N\n",
    "A   L S  I G\n",
    "Y A   H R\n",
    "P     I\n",
    "```\n",
    "\n",
    "**Example 3:**\n",
    "```\n",
    "Input: s = \"A\", numRows = 1\n",
    "Output: \"A\"\n",
    "``` \n",
    "\n",
    "**Constraints:**\n",
    "- 1 <= s.length <= 1000\n",
    "- s consists of English letters (lower-case and upper-case), ',' and '.'.\n",
    "- 1 <= numRows <= 1000"
   ]
  },
  {
   "cell_type": "code",
   "execution_count": 46,
   "id": "1cb87e9c-3b07-407d-a152-4b088bc803d3",
   "metadata": {
    "execution": {
     "iopub.execute_input": "2022-02-28T03:07:53.507527Z",
     "iopub.status.busy": "2022-02-28T03:07:53.506988Z",
     "iopub.status.idle": "2022-02-28T03:07:53.512144Z",
     "shell.execute_reply": "2022-02-28T03:07:53.511652Z",
     "shell.execute_reply.started": "2022-02-28T03:07:53.507505Z"
    },
    "tags": []
   },
   "outputs": [],
   "source": [
    "class Solution:\n",
    "    def convert(self, s: str, numRows: int) -> str:\n",
    "        \"\"\"\n",
    "        6. Zigzag  Conversion\n",
    "        \"\"\"\n",
    "        \n",
    "        # define the constriants and ValueError messages\n",
    "        if s != s.lower() and s != s.upper():\n",
    "            print(s != s.upper())\n",
    "            raise Exception(\"s consists of English letters (lower-case and upper-case), ',' and '.'.\")\n",
    "        if numRows < 1 or numRows > 1000:\n",
    "            raise Exception(\"1 <= numRows <= 1000\")\n",
    "        if len(s) < 1 or len(s) > 1000:\n",
    "            raise Exception(\"1 <= s.length <= 1000\")\n",
    "        \n",
    "        if numRows == 1: return s\n",
    "    \n",
    "        res = \"\"\n",
    "        for r in range(numRows):\n",
    "            increment = 2 * (numRows - 1)\n",
    "            for i in range(r, len(s), increment):\n",
    "                res += s[i]\n",
    "                if (r > 0 and r < numRows - 1 and\n",
    "                    i + increment - 2 * r < len(s)):\n",
    "                    res += s[i + increment - 2 * r]\n",
    "        return res"
   ]
  },
  {
   "cell_type": "code",
   "execution_count": 54,
   "id": "965083b7-6240-4804-bb36-e08d22b7fe1d",
   "metadata": {
    "execution": {
     "iopub.execute_input": "2022-02-28T14:09:38.600765Z",
     "iopub.status.busy": "2022-02-28T14:09:38.600209Z",
     "iopub.status.idle": "2022-02-28T14:09:38.604222Z",
     "shell.execute_reply": "2022-02-28T14:09:38.603745Z",
     "shell.execute_reply.started": "2022-02-28T14:09:38.600743Z"
    },
    "tags": []
   },
   "outputs": [
    {
     "data": {
      "text/plain": [
       "'PAYGPNAILRIHS'"
      ]
     },
     "execution_count": 54,
     "metadata": {},
     "output_type": "execute_result"
    }
   ],
   "source": [
    "Solution().convert(\"PAYPALISHRING\", 8)"
   ]
  },
  {
   "cell_type": "code",
   "execution_count": 50,
   "id": "4d58b7e0-ecf9-4d7f-9c89-82ced636d16b",
   "metadata": {
    "execution": {
     "iopub.execute_input": "2022-02-28T14:05:08.257528Z",
     "iopub.status.busy": "2022-02-28T14:05:08.257165Z",
     "iopub.status.idle": "2022-02-28T14:05:08.261510Z",
     "shell.execute_reply": "2022-02-28T14:05:08.260951Z",
     "shell.execute_reply.started": "2022-02-28T14:05:08.257511Z"
    },
    "tags": []
   },
   "outputs": [
    {
     "data": {
      "text/plain": [
       "'PIGALSNYAHIPR'"
      ]
     },
     "execution_count": 50,
     "metadata": {},
     "output_type": "execute_result"
    }
   ],
   "source": [
    "Solution().convert(\"PAYPALISHRING\", 4)"
   ]
  },
  {
   "cell_type": "code",
   "execution_count": 40,
   "id": "8bcd7038-a6e2-4a96-9acc-9bf6854affda",
   "metadata": {
    "execution": {
     "iopub.execute_input": "2022-02-28T02:55:57.510741Z",
     "iopub.status.busy": "2022-02-28T02:55:57.510344Z",
     "iopub.status.idle": "2022-02-28T02:55:57.514264Z",
     "shell.execute_reply": "2022-02-28T02:55:57.513814Z",
     "shell.execute_reply.started": "2022-02-28T02:55:57.510721Z"
    }
   },
   "outputs": [
    {
     "data": {
      "text/plain": [
       "'A'"
      ]
     },
     "execution_count": 40,
     "metadata": {},
     "output_type": "execute_result"
    }
   ],
   "source": [
    "Solution().convert(\"A\", 1)"
   ]
  },
  {
   "cell_type": "code",
   "execution_count": null,
   "id": "726b4fcc-4284-4a9a-9af0-d5c4bd831118",
   "metadata": {},
   "outputs": [],
   "source": [
    "\n"
   ]
  }
 ],
 "metadata": {
  "kernelspec": {
   "display_name": "Python 3 (ipykernel)",
   "language": "python",
   "name": "python3"
  },
  "language_info": {
   "codemirror_mode": {
    "name": "ipython",
    "version": 3
   },
   "file_extension": ".py",
   "mimetype": "text/x-python",
   "name": "python",
   "nbconvert_exporter": "python",
   "pygments_lexer": "ipython3",
   "version": "3.8.10"
  }
 },
 "nbformat": 4,
 "nbformat_minor": 5
}
