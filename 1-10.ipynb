{
 "cells": [
  {
   "cell_type": "markdown",
   "id": "df7453a4-ca73-437f-b561-a8ab51bd894e",
   "metadata": {},
   "source": [
    "# Algorithm"
   ]
  },
  {
   "cell_type": "code",
   "execution_count": 8,
   "id": "68c55748-2e97-4006-bcd1-d0e9e238eb98",
   "metadata": {
    "execution": {
     "iopub.execute_input": "2022-03-11T07:18:49.334963Z",
     "iopub.status.busy": "2022-03-11T07:18:49.334671Z",
     "iopub.status.idle": "2022-03-11T07:18:49.338610Z",
     "shell.execute_reply": "2022-03-11T07:18:49.337816Z",
     "shell.execute_reply.started": "2022-03-11T07:18:49.334933Z"
    },
    "tags": []
   },
   "outputs": [],
   "source": [
    "## Run this cell first, import required libraires\n",
    "from typing import List, Optional\n",
    "import random\n",
    "import math"
   ]
  },
  {
   "cell_type": "markdown",
   "id": "68cd0f76-f8a1-480d-ab50-a8db2bcb26b1",
   "metadata": {
    "jp-MarkdownHeadingCollapsed": true,
    "tags": []
   },
   "source": [
    "## 1. Two Sum"
   ]
  },
  {
   "cell_type": "markdown",
   "id": "488ad1c1-a0bc-4ea4-8f58-d1e2eb02b1ae",
   "metadata": {
    "jp-MarkdownHeadingCollapsed": true,
    "tags": []
   },
   "source": [
    "Given an array of integers nums and an integer target, return indices of the two numbers such that they add up to target.\n",
    "\n",
    "You may assume that each input would have exactly one solution, and you may not use the same element twice.\n",
    "\n",
    "You can return the answer in any order.\n",
    "\n",
    "**Example 1:**\n",
    "\n",
    "```\n",
    "Input: nums = [2,7,11,15], target = 9\n",
    "Output: [0,1]\n",
    "Output: Because nums[0] + nums[1] == 9, we return [0, 1].\n",
    "```\n",
    "\n",
    "**Example 2:**\n",
    "\n",
    "```\n",
    "Input: nums = [3,2,4], target = 6\n",
    "Output: [1,2]\n",
    "```\n",
    "\n",
    "**Example 3:**\n",
    "\n",
    "```\n",
    "Input: nums = [3,3], target = 6\n",
    "Output: [0,1]\n",
    "```\n",
    "\n",
    "**Constraints:**\n",
    "- 2 <= nums.length <= 104\n",
    "- 109 <= nums[i] <= 109\n",
    "- 109 <= target <= 109\n",
    "- **Only one valid answer exists.**\n",
    " \n",
    "Follow-up: Can you come up with an algorithm that is less than $O(n^2)$ time complexity?"
   ]
  },
  {
   "cell_type": "code",
   "execution_count": 36,
   "id": "1b51967f-ba90-43c3-8dfe-db48b57cf423",
   "metadata": {},
   "outputs": [],
   "source": [
    "# define the sample\n",
    "example = {\n",
    "    \"s1\": {\"nums\": [2, 7, 11, 15],\"target\": 9},\n",
    "    \"s2\": {\"nums\": [3, 2, 4],\"target\": 6},\n",
    "    \"s3\": {\"nums\": [3, 3], \"target\": 6}\n",
    "}"
   ]
  },
  {
   "cell_type": "code",
   "execution_count": 61,
   "id": "d18acba8-5ea2-4db3-b0d1-854551f3d8ce",
   "metadata": {},
   "outputs": [],
   "source": [
    "class Solution:\n",
    "    # brutal force approach\n",
    "    def twoSum1(nums: List[int], target: int) -> List[int]:\n",
    "        for i in range(len(nums)):\n",
    "            for j in range(1, len(nums)):\n",
    "                if nums[i] + nums[j] == target and i != j:\n",
    "                    return [i, j]\n",
    "                \n",
    "    # random select initial value\n",
    "    def twoSum2(nums: List[int], target: int) -> List[int]:\n",
    "        # obtain array length\n",
    "        arrLen = len(nums)\n",
    "        \n",
    "        # if nums has length < 2, then return index [0]\n",
    "        if arrLen < 2:\n",
    "            return [0]\n",
    "        \n",
    "        # if nums has length == 2, then return index [0, 1]\n",
    "        if arrLen == 2:\n",
    "            return [0, 1]\n",
    "        \n",
    "        # garbage collection\n",
    "        usedIndex = []\n",
    "        \n",
    "        while(len(usedIndex) != arrLen):\n",
    "            # randomly select a item from the list\n",
    "            currNum = random.choice(nums)\n",
    "            currIndex = nums.index(currNum)\n",
    "          \n",
    "            if currIndex not in usedIndex:        \n",
    "                for i in range(arrLen):\n",
    "                    if i != currIndex and (nums[i] + currNum) == target:\n",
    "                        return sorted([currIndex, i])\n",
    "            \n",
    "                # select another index\n",
    "                usedIndex.append(currIndex)\n",
    "    \n",
    "    # dictionary approach\n",
    "    def twoSum3(nums: List[int], target: int) -> List[int]:\n",
    "        seen = {}\n",
    "        \n",
    "        for i, num in enumerate(nums):\n",
    "            if target - num in seen:\n",
    "                return ([seen[target - num], i])\n",
    "            elif num not in seen:\n",
    "                seen[num] = i"
   ]
  },
  {
   "cell_type": "code",
   "execution_count": 58,
   "id": "e66ad4af-6251-4dc7-a3a1-a6d636d1fa6b",
   "metadata": {},
   "outputs": [
    {
     "data": {
      "text/plain": [
       "[0, 1]"
      ]
     },
     "metadata": {},
     "output_type": "display_data"
    },
    {
     "data": {
      "text/plain": [
       "[1, 2]"
      ]
     },
     "metadata": {},
     "output_type": "display_data"
    },
    {
     "data": {
      "text/plain": [
       "[0, 1]"
      ]
     },
     "metadata": {},
     "output_type": "display_data"
    },
    {
     "name": "stdout",
     "output_type": "stream",
     "text": [
      "Wall time: 2 ms\n"
     ]
    }
   ],
   "source": [
    "%%time\n",
    "display(Solution.twoSum1(nums=example['s1']['nums'], target=example['s1']['target']))\n",
    "display(Solution.twoSum1(nums=example['s2']['nums'], target=example['s2']['target']))\n",
    "display(Solution.twoSum1(nums=example['s3']['nums'], target=example['s3']['target']))"
   ]
  },
  {
   "cell_type": "code",
   "execution_count": 59,
   "id": "ef4f3e03-465d-4849-8019-6a86ecda5420",
   "metadata": {},
   "outputs": [
    {
     "data": {
      "text/plain": [
       "[0, 1]"
      ]
     },
     "metadata": {},
     "output_type": "display_data"
    },
    {
     "data": {
      "text/plain": [
       "[1, 2]"
      ]
     },
     "metadata": {},
     "output_type": "display_data"
    },
    {
     "data": {
      "text/plain": [
       "[0, 1]"
      ]
     },
     "metadata": {},
     "output_type": "display_data"
    },
    {
     "name": "stdout",
     "output_type": "stream",
     "text": [
      "Wall time: 3 ms\n"
     ]
    }
   ],
   "source": [
    "%%time\n",
    "display(Solution.twoSum2(nums=example['s1']['nums'], target=example['s1']['target']))\n",
    "display(Solution.twoSum2(nums=example['s2']['nums'], target=example['s2']['target']))\n",
    "display(Solution.twoSum2(nums=example['s3']['nums'], target=example['s3']['target']))"
   ]
  },
  {
   "cell_type": "code",
   "execution_count": 62,
   "id": "e4982567-25c9-46b5-a05b-cf0d864491ef",
   "metadata": {},
   "outputs": [
    {
     "data": {
      "text/plain": [
       "[0, 1]"
      ]
     },
     "metadata": {},
     "output_type": "display_data"
    },
    {
     "data": {
      "text/plain": [
       "[1, 2]"
      ]
     },
     "metadata": {},
     "output_type": "display_data"
    },
    {
     "data": {
      "text/plain": [
       "[0, 1]"
      ]
     },
     "metadata": {},
     "output_type": "display_data"
    },
    {
     "name": "stdout",
     "output_type": "stream",
     "text": [
      "Wall time: 2.99 ms\n"
     ]
    }
   ],
   "source": [
    "%%time\n",
    "display(Solution.twoSum3(nums=example['s1']['nums'], target=example['s1']['target']))\n",
    "display(Solution.twoSum3(nums=example['s2']['nums'], target=example['s2']['target']))\n",
    "display(Solution.twoSum3(nums=example['s3']['nums'], target=example['s3']['target']))"
   ]
  },
  {
   "cell_type": "markdown",
   "id": "c2cc4122-d731-495b-b818-28b853d712a0",
   "metadata": {
    "jp-MarkdownHeadingCollapsed": true,
    "tags": []
   },
   "source": [
    "## 2. Add Two Numbers"
   ]
  },
  {
   "cell_type": "markdown",
   "id": "2fc8a1cc-4f5d-4938-8f3b-6951dc0eec17",
   "metadata": {},
   "source": [
    "You are given two non-empty linked lists representing two non-negative integers. The digits are stored in reverse order, and each of their nodes contains a single digit. Add the two numbers and return the sum as a linked list.\n",
    "\n",
    "You may assume the two numbers do not contain any leading zero, except the number 0 itself.\n",
    "\n",
    "**Example 1:**\n",
    "\n",
    "<img src='Images/2.addtwonumber1.jpg' align=center alt='2. Add Two Numbers Example 1' witdh='100px' height='100px'></img>\n",
    "\n",
    "```\n",
    "Input: l1 = [2,4,3], l2 = [5,6,4]\n",
    "Output: [7,0,8]\n",
    "Explanation: 342 + 465 = 807.\n",
    "```\n",
    "\n",
    "**Example 2:**\n",
    "```\n",
    "Input: l1 = [0], l2 = [0]\n",
    "Output: [0]\n",
    "```\n",
    "\n",
    "**Example 3:**\n",
    "```\n",
    "Input: l1 = [9,9,9,9,9,9,9], l2 = [9,9,9,9]\n",
    "Output: [8,9,9,9,0,0,0,1]\n",
    "```\n",
    "\n",
    "**Constraints:**\n",
    "- The number of nodes in each linked list is in the range [1, 100].\n",
    "- 0 <= Node.val <= 9\n",
    "- It is guaranteed that the list represents a number that does not have leading zeros."
   ]
  },
  {
   "cell_type": "code",
   "execution_count": 78,
   "id": "92446681-9487-4dfb-b308-b45d157dcde0",
   "metadata": {},
   "outputs": [],
   "source": [
    "# define the sample\n",
    "example = {\n",
    "    \"s1\": {'l1': ListNode(2, ListNode(4, ListNode(3))), \n",
    "           'l2': ListNode(5, ListNode(6, ListNode(4))), \n",
    "           'output': ListNode(7, ListNode(0, ListNode(8)))},\n",
    "    \"s2\": {'l1': ListNode(0), 'l2': ListNode(0), 'output': ListNode(0)},\n",
    "    \"s3\": {'l1': ListNode(9, ListNode(9, ListNode(9, ListNode(9, ListNode(9, ListNode(9, ListNode(9))))))), \n",
    "           'l2': ListNode(9, ListNode(9, ListNode(9, ListNode(9)))), \n",
    "           'output': ListNode(8, ListNode(9, ListNode(9, ListNode(9, ListNode(0, ListNode(0, ListNode(0, ListNode(1))))))))}\n",
    "}"
   ]
  },
  {
   "cell_type": "code",
   "execution_count": 73,
   "id": "4ff0c147-95ac-4070-b465-1bc47cb0bc98",
   "metadata": {},
   "outputs": [],
   "source": [
    "# Definition for singly-linked list.\n",
    "class ListNode:\n",
    "    def __init__(self, val=0, next=None):\n",
    "        self.val = val\n",
    "        self.next = next"
   ]
  },
  {
   "cell_type": "code",
   "execution_count": 105,
   "id": "3b7bc6fd-721f-4fb7-a8f4-815b34dbbe08",
   "metadata": {},
   "outputs": [],
   "source": [
    "class Solution:\n",
    "    def addTwoNumbers(self, l1: Optional[ListNode], l2: Optional[ListNode]) -> Optional[ListNode]:\n",
    "        dummy = ListNode()\n",
    "        curr = dummy\n",
    "        \n",
    "        carry = 0\n",
    "        \n",
    "        while l1 or l2:\n",
    "            v1 = l1.val if l1 else 0\n",
    "            v2 = l2.val if l2 else 0\n",
    "            \n",
    "            # compute new digit\n",
    "            val = v1 + v2 + carry\n",
    "\n",
    "            # re-compute carry number\n",
    "            carry = val // 10\n",
    "            val = val % 10\n",
    "            \n",
    "            curr.next = ListNode(val)\n",
    "        \n",
    "            # update current pointer\n",
    "            curr = curr.next\n",
    "            l1 = l1.next if l1 else None\n",
    "            l2 = l2.next if l2 else None\n",
    "\n",
    "        if carry == 0:\n",
    "            return dummy.next\n",
    "        else:\n",
    "            curr.next = ListNode(carry)\n",
    "            return dummy.next"
   ]
  },
  {
   "cell_type": "code",
   "execution_count": 106,
   "id": "dc4bc7dd-ec9f-4f30-a1a1-af22a19e0d56",
   "metadata": {
    "tags": []
   },
   "outputs": [
    {
     "data": {
      "text/plain": [
       "[7, 0, 8]"
      ]
     },
     "execution_count": 106,
     "metadata": {},
     "output_type": "execute_result"
    }
   ],
   "source": [
    "result = []\n",
    "curr = Solution().addTwoNumbers(example['s1']['l1'], example['s1']['l2'])\n",
    "while curr:\n",
    "    result.append(curr.val)\n",
    "    curr = curr.next\n",
    "result"
   ]
  },
  {
   "cell_type": "code",
   "execution_count": 107,
   "id": "7c2e40c7-5876-4879-a04f-d50cc19cfae5",
   "metadata": {},
   "outputs": [
    {
     "data": {
      "text/plain": [
       "[0]"
      ]
     },
     "execution_count": 107,
     "metadata": {},
     "output_type": "execute_result"
    }
   ],
   "source": [
    "result = []\n",
    "curr = Solution().addTwoNumbers(example['s2']['l1'], example['s2']['l2'])\n",
    "while curr:\n",
    "    result.append(curr.val)\n",
    "    curr = curr.next\n",
    "result"
   ]
  },
  {
   "cell_type": "code",
   "execution_count": 108,
   "id": "c172041d-02de-4416-8405-7fa2309aa934",
   "metadata": {},
   "outputs": [
    {
     "data": {
      "text/plain": [
       "[8, 9, 9, 9, 0, 0, 0, 1]"
      ]
     },
     "execution_count": 108,
     "metadata": {},
     "output_type": "execute_result"
    }
   ],
   "source": [
    "result = []\n",
    "curr = Solution().addTwoNumbers(example['s3']['l1'], example['s3']['l2'])\n",
    "while curr:\n",
    "    result.append(curr.val)\n",
    "    curr = curr.next\n",
    "result"
   ]
  },
  {
   "cell_type": "markdown",
   "id": "0dfe1cdb-8930-46b6-abda-98c098650236",
   "metadata": {
    "jp-MarkdownHeadingCollapsed": true,
    "tags": []
   },
   "source": [
    "## 3. Longest Substring Without Repeating Characters"
   ]
  },
  {
   "cell_type": "markdown",
   "id": "d232cf78-cbd5-42cc-8dee-e3e8db6b07aa",
   "metadata": {},
   "source": [
    "Given a string s, find the length of the **longest substring** without repeating characters.\n",
    "\n",
    "**Example 1:**\n",
    "```\n",
    "Input: s = \"abcabcbb\"\n",
    "Output: 3\n",
    "Explanation: The answer is \"abc\", with the length of 3.\n",
    "```\n",
    "\n",
    "**Example 2:**\n",
    "```\n",
    "Input: s = \"bbbbb\"\n",
    "Output: 1\n",
    "Explanation: The answer is \"b\", with the length of 1.\n",
    "```\n",
    "\n",
    "**Example 3:**\n",
    "```\n",
    "Input: s = \"pwwkew\"\n",
    "Output: 3\n",
    "Explanation: The answer is \"wke\", with the length of 3.\n",
    "Notice that the answer must be a substring, \"pwke\" is a subsequence and not a substring.\n",
    "```\n",
    "\n",
    "**Constraints:**\n",
    "- 0 <= s.length <= 5 * 104\n",
    "- s consists of English letters, digits, symbols and spaces."
   ]
  },
  {
   "cell_type": "code",
   "execution_count": 122,
   "id": "e5735c53-df51-4483-924b-c5a1a3be3672",
   "metadata": {},
   "outputs": [],
   "source": [
    "example = {\n",
    "    's1': {'s': 'abcabcbb', 'output': 3},\n",
    "    's2': {'s': 'bbbbb', 'output': 1},\n",
    "    's3': {'s': 'pwwkew', 'output': 3},\n",
    "}"
   ]
  },
  {
   "cell_type": "code",
   "execution_count": 126,
   "id": "6218b016-3fec-4d3d-b7ab-19df6eec8cf3",
   "metadata": {},
   "outputs": [],
   "source": [
    "class Solution:\n",
    "    def lengthOfLongestSubstring(self, s: str) -> int:\n",
    "        charSet = set()\n",
    "        \n",
    "        # determine the left pointer location\n",
    "        left = 0\n",
    "        res = 0\n",
    "        \n",
    "        for right in range(len(s)):\n",
    "            # print(charSet)\n",
    "            while s[right] in charSet:\n",
    "                charSet.remove(s[left])\n",
    "                left += 1\n",
    "            charSet.add(s[right])\n",
    "            res = max(res, right - left + 1)\n",
    "        return res"
   ]
  },
  {
   "cell_type": "code",
   "execution_count": 131,
   "id": "122c4923-6552-4ee5-9cae-091c9aab641f",
   "metadata": {},
   "outputs": [
    {
     "data": {
      "text/plain": [
       "True"
      ]
     },
     "metadata": {},
     "output_type": "display_data"
    },
    {
     "data": {
      "text/plain": [
       "True"
      ]
     },
     "metadata": {},
     "output_type": "display_data"
    },
    {
     "data": {
      "text/plain": [
       "True"
      ]
     },
     "metadata": {},
     "output_type": "display_data"
    }
   ],
   "source": [
    "display(Solution().lengthOfLongestSubstring(example['s1']['s']) is example['s1']['output']) \n",
    "display(Solution().lengthOfLongestSubstring(example['s2']['s']) is example['s2']['output'])\n",
    "display(Solution().lengthOfLongestSubstring(example['s3']['s']) is example['s3']['output']) "
   ]
  },
  {
   "cell_type": "markdown",
   "id": "c6e94d7b-d5ee-4a79-af94-971cc40a16bb",
   "metadata": {
    "jp-MarkdownHeadingCollapsed": true,
    "tags": []
   },
   "source": [
    "## 4. Median of Two Sorted Arrays"
   ]
  },
  {
   "cell_type": "markdown",
   "id": "8108f72b-e7cc-42bf-8176-501e77e95070",
   "metadata": {},
   "source": [
    "Given two sorted arrays nums1 and nums2 of size m and n respectively, return the median of the two sorted arrays.\n",
    "\n",
    "The overall run time complexity should be O(log (m+n)).\n",
    "\n",
    "**Example 1:**\n",
    "```\n",
    "Input: nums1 = [1,3], nums2 = [2]\n",
    "Output: 2.00000\n",
    "Explanation: merged array = [1,2,3] and median is 2.\n",
    "```\n",
    "\n",
    "**Example 2:**\n",
    "```\n",
    "Input: nums1 = [1,2], nums2 = [3,4]\n",
    "Output: 2.50000\n",
    "Explanation: merged array = [1,2,3,4] and median is (2 + 3) / 2 = 2.5.\n",
    "```\n",
    "\n",
    "**Constraints:**\n",
    "- nums1.length == m\n",
    "- nums2.length == n\n",
    "- 0 <= m <= 1000\n",
    "- 0 <= n <= 1000\n",
    "- 1 <= m + n <= 2000\n",
    "- -106 <= nums1[i], nums2[i] <= 106"
   ]
  },
  {
   "cell_type": "code",
   "execution_count": 3,
   "id": "443746b6-44ed-4941-b0c3-fa22a4fa2039",
   "metadata": {},
   "outputs": [],
   "source": [
    "class Solution:\n",
    "    def findMedianSortedArrays(self, nums1: List[int], nums2: List[int]) -> float:\n",
    "        A, B = nums1, nums2\n",
    "        # define the total array length and half array length\n",
    "        total = len(A) + len(B)\n",
    "        half = total // 2\n",
    "        \n",
    "        # swap the array if len(B) < len(A)\n",
    "        if len(B) < len(A):\n",
    "            A, B = B, A\n",
    "        \n",
    "        l, r = 0, len(A) - 1\n",
    "        \n",
    "        while True:\n",
    "            i = (l + r) // 2 # A\n",
    "            j = half - i - 2 # B\n",
    "            \n",
    "            Aleft = A[i] if i >= 0 else float(\"-infinity\")\n",
    "            Aright = A[i+1] if (i+1) < len(A) else float(\"infinity\")\n",
    "            Bleft = B[j] if j >= 0 else float(\"-infinity\")\n",
    "            Bright = B[j+1] if (j+1) < len(B) else float(\"infinity\")\n",
    "            \n",
    "            # partition is correct\n",
    "            if Aleft <= Bright and Bleft <= Aright:\n",
    "                if total % 2:\n",
    "                    return min(Aright, Bright)\n",
    "                return (max(Aleft, Bleft) + min(Aright, Bright)) / 2\n",
    "            elif Aleft > Bright:\n",
    "                r = i - 1\n",
    "            else:\n",
    "                l = i + 1"
   ]
  },
  {
   "cell_type": "code",
   "execution_count": 5,
   "id": "b70ee7d3-f531-4a86-82f2-fccf1596f3e7",
   "metadata": {},
   "outputs": [
    {
     "data": {
      "text/plain": [
       "2"
      ]
     },
     "execution_count": 5,
     "metadata": {},
     "output_type": "execute_result"
    }
   ],
   "source": [
    "Solution().findMedianSortedArrays(nums1=[1, 3], nums2=[2])"
   ]
  },
  {
   "cell_type": "code",
   "execution_count": 6,
   "id": "98bf7f9d-ddd7-4554-8af1-ee962efdaf6e",
   "metadata": {},
   "outputs": [
    {
     "data": {
      "text/plain": [
       "2.5"
      ]
     },
     "execution_count": 6,
     "metadata": {},
     "output_type": "execute_result"
    }
   ],
   "source": [
    "Solution().findMedianSortedArrays(nums1=[1, 2], nums2=[3, 4])"
   ]
  },
  {
   "cell_type": "markdown",
   "id": "571cd21a-45d3-42ba-93ec-86b116081e49",
   "metadata": {
    "jp-MarkdownHeadingCollapsed": true,
    "tags": []
   },
   "source": [
    "## 5. Longest Palindromic Substring\n"
   ]
  },
  {
   "cell_type": "markdown",
   "id": "58217207-a72b-4b6e-bf79-09f89828b287",
   "metadata": {},
   "source": [
    "\n",
    "Given a string `s`, return the longest palindromic substring in `s`.\n",
    "\n",
    "**Example 1:**\n",
    "```\n",
    "Input: s = \"babad\"\n",
    "Output: \"bab\"\n",
    "Explanation: \"aba\" is also a valid answer.\n",
    "```\n",
    "\n",
    "**Example 2:**\n",
    "```\n",
    "Input: s = \"cbbd\"\n",
    "Output: \"bb\"\n",
    "```\n",
    "\n",
    "**Constraints:**\n",
    "- 1 <= s.length <= 1000\n",
    "- s consist of only digits and English letters."
   ]
  },
  {
   "cell_type": "code",
   "execution_count": 13,
   "id": "8e038ce5-a0a5-4af3-bd34-d2a5c14aad80",
   "metadata": {
    "execution": {
     "iopub.execute_input": "2022-02-28T02:33:32.360594Z",
     "iopub.status.busy": "2022-02-28T02:33:32.360369Z",
     "iopub.status.idle": "2022-02-28T02:33:32.365096Z",
     "shell.execute_reply": "2022-02-28T02:33:32.364520Z",
     "shell.execute_reply.started": "2022-02-28T02:33:32.360576Z"
    },
    "tags": []
   },
   "outputs": [],
   "source": [
    "class Solution:\n",
    "    def longestPalindrome(self, s: str) -> str:\n",
    "        res, resLen = \"\", 0\n",
    "        \n",
    "        for i in range(len(s)):\n",
    "            l, r = i, i\n",
    "            while l >= 0 and r < len(s) and s[l] == s[r]:\n",
    "                if (r - l + 1) > resLen:\n",
    "                    res, resLen = s[l:r+1], r - l + 1\n",
    "                l -= 1\n",
    "                r += 1\n",
    "            \n",
    "            l, r = i, i + 1\n",
    "            while l >= 0 and r < len(s) and s[l] == s[r]:\n",
    "                if (r - l + 1) > resLen:\n",
    "                    res, resLen = s[l:r+1], r - l + 1\n",
    "                l -= 1\n",
    "                r += 1\n",
    "        return res"
   ]
  },
  {
   "cell_type": "code",
   "execution_count": 14,
   "id": "7d0a9895-bd14-4c94-b457-700e27aad904",
   "metadata": {
    "execution": {
     "iopub.execute_input": "2022-02-28T02:33:35.049513Z",
     "iopub.status.busy": "2022-02-28T02:33:35.049148Z",
     "iopub.status.idle": "2022-02-28T02:33:35.052945Z",
     "shell.execute_reply": "2022-02-28T02:33:35.052518Z",
     "shell.execute_reply.started": "2022-02-28T02:33:35.049496Z"
    },
    "tags": []
   },
   "outputs": [
    {
     "data": {
      "text/plain": [
       "'bab'"
      ]
     },
     "execution_count": 14,
     "metadata": {},
     "output_type": "execute_result"
    }
   ],
   "source": [
    "Solution().longestPalindrome(\"babad\")"
   ]
  },
  {
   "cell_type": "code",
   "execution_count": 15,
   "id": "8387dac4-0e43-4885-8bfa-e8daffab738d",
   "metadata": {
    "execution": {
     "iopub.execute_input": "2022-02-28T02:33:35.212552Z",
     "iopub.status.busy": "2022-02-28T02:33:35.212154Z",
     "iopub.status.idle": "2022-02-28T02:33:35.216171Z",
     "shell.execute_reply": "2022-02-28T02:33:35.215644Z",
     "shell.execute_reply.started": "2022-02-28T02:33:35.212535Z"
    },
    "tags": []
   },
   "outputs": [
    {
     "data": {
      "text/plain": [
       "'bb'"
      ]
     },
     "execution_count": 15,
     "metadata": {},
     "output_type": "execute_result"
    }
   ],
   "source": [
    "Solution().longestPalindrome(\"cbbd\")"
   ]
  },
  {
   "cell_type": "markdown",
   "id": "3d3a56c9-1122-42d4-bca0-013c6fae765c",
   "metadata": {
    "tags": []
   },
   "source": [
    "## 6. Zigzag Conversion\n"
   ]
  },
  {
   "cell_type": "markdown",
   "id": "0379b4da-2098-4ea3-8ac5-c362ab42bb2a",
   "metadata": {},
   "source": [
    "The string `\"PAYPALISHIRING\"` is written in a zigzag pattern on a given number of rows like this: (you may want to display this pattern in a fixed font for better legibility)\n",
    "\n",
    "```\n",
    "P   A   H   N\n",
    "A P L S I I G\n",
    "Y   I   R\n",
    "```\n",
    "\n",
    "And then read line by line: `\"PAHNAPLSIIGYIR\"`\n",
    "\n",
    "Write the code that will take a string and make this conversion given a number of rows:\n",
    "\n",
    "```string convert(string s, int numRows);```\n",
    " \n",
    "\n",
    "**Example 1:**\n",
    "```\n",
    "Input: s = \"PAYPALISHIRING\", numRows = 3\n",
    "Output: \"PAHNAPLSIIGYIR\"\n",
    "```\n",
    "\n",
    "**Example 2:**\n",
    "```\n",
    "Input: s = \"PAYPALISHIRING\", numRows = 4\n",
    "Output: \"PINALSIGYAHRPI\"\n",
    "Explanation:\n",
    "P     I    N\n",
    "A   L S  I G\n",
    "Y A   H R\n",
    "P     I\n",
    "```\n",
    "\n",
    "**Example 3:**\n",
    "```\n",
    "Input: s = \"A\", numRows = 1\n",
    "Output: \"A\"\n",
    "``` \n",
    "\n",
    "**Constraints:**\n",
    "- 1 <= s.length <= 1000\n",
    "- s consists of English letters (lower-case and upper-case), ',' and '.'.\n",
    "- 1 <= numRows <= 1000"
   ]
  },
  {
   "cell_type": "code",
   "execution_count": 46,
   "id": "1cb87e9c-3b07-407d-a152-4b088bc803d3",
   "metadata": {
    "execution": {
     "iopub.execute_input": "2022-02-28T03:07:53.507527Z",
     "iopub.status.busy": "2022-02-28T03:07:53.506988Z",
     "iopub.status.idle": "2022-02-28T03:07:53.512144Z",
     "shell.execute_reply": "2022-02-28T03:07:53.511652Z",
     "shell.execute_reply.started": "2022-02-28T03:07:53.507505Z"
    },
    "tags": []
   },
   "outputs": [],
   "source": [
    "class Solution:\n",
    "    def convert(self, s: str, numRows: int) -> str:\n",
    "        \"\"\"\n",
    "        6. Zigzag  Conversion\n",
    "        \"\"\"\n",
    "        \n",
    "        # define the constriants and ValueError messages\n",
    "        if s != s.lower() and s != s.upper():\n",
    "            print(s != s.upper())\n",
    "            raise Exception(\"s consists of English letters (lower-case and upper-case), ',' and '.'.\")\n",
    "        if numRows < 1 or numRows > 1000:\n",
    "            raise Exception(\"1 <= numRows <= 1000\")\n",
    "        if len(s) < 1 or len(s) > 1000:\n",
    "            raise Exception(\"1 <= s.length <= 1000\")\n",
    "        \n",
    "        if numRows == 1: return s\n",
    "    \n",
    "        res = \"\"\n",
    "        for r in range(numRows):\n",
    "            increment = 2 * (numRows - 1)\n",
    "            for i in range(r, len(s), increment):\n",
    "                res += s[i]\n",
    "                if (r > 0 and r < numRows - 1 and\n",
    "                    i + increment - 2 * r < len(s)):\n",
    "                    res += s[i + increment - 2 * r]\n",
    "        return res"
   ]
  },
  {
   "cell_type": "code",
   "execution_count": 54,
   "id": "965083b7-6240-4804-bb36-e08d22b7fe1d",
   "metadata": {
    "execution": {
     "iopub.execute_input": "2022-02-28T14:09:38.600765Z",
     "iopub.status.busy": "2022-02-28T14:09:38.600209Z",
     "iopub.status.idle": "2022-02-28T14:09:38.604222Z",
     "shell.execute_reply": "2022-02-28T14:09:38.603745Z",
     "shell.execute_reply.started": "2022-02-28T14:09:38.600743Z"
    },
    "tags": []
   },
   "outputs": [
    {
     "data": {
      "text/plain": [
       "'PAYGPNAILRIHS'"
      ]
     },
     "execution_count": 54,
     "metadata": {},
     "output_type": "execute_result"
    }
   ],
   "source": [
    "Solution().convert(\"PAYPALISHRING\", 8)"
   ]
  },
  {
   "cell_type": "code",
   "execution_count": 50,
   "id": "4d58b7e0-ecf9-4d7f-9c89-82ced636d16b",
   "metadata": {
    "execution": {
     "iopub.execute_input": "2022-02-28T14:05:08.257528Z",
     "iopub.status.busy": "2022-02-28T14:05:08.257165Z",
     "iopub.status.idle": "2022-02-28T14:05:08.261510Z",
     "shell.execute_reply": "2022-02-28T14:05:08.260951Z",
     "shell.execute_reply.started": "2022-02-28T14:05:08.257511Z"
    },
    "tags": []
   },
   "outputs": [
    {
     "data": {
      "text/plain": [
       "'PIGALSNYAHIPR'"
      ]
     },
     "execution_count": 50,
     "metadata": {},
     "output_type": "execute_result"
    }
   ],
   "source": [
    "Solution().convert(\"PAYPALISHRING\", 4)"
   ]
  },
  {
   "cell_type": "code",
   "execution_count": 40,
   "id": "8bcd7038-a6e2-4a96-9acc-9bf6854affda",
   "metadata": {
    "execution": {
     "iopub.execute_input": "2022-02-28T02:55:57.510741Z",
     "iopub.status.busy": "2022-02-28T02:55:57.510344Z",
     "iopub.status.idle": "2022-02-28T02:55:57.514264Z",
     "shell.execute_reply": "2022-02-28T02:55:57.513814Z",
     "shell.execute_reply.started": "2022-02-28T02:55:57.510721Z"
    }
   },
   "outputs": [
    {
     "data": {
      "text/plain": [
       "'A'"
      ]
     },
     "execution_count": 40,
     "metadata": {},
     "output_type": "execute_result"
    }
   ],
   "source": [
    "Solution().convert(\"A\", 1)"
   ]
  },
  {
   "cell_type": "markdown",
   "id": "48b37102-704e-4869-9604-50fcca0f3de0",
   "metadata": {
    "tags": []
   },
   "source": [
    "## 7. Reverse Integer"
   ]
  },
  {
   "cell_type": "markdown",
   "id": "6a90c8a7-6897-469e-8f8e-c5b84b6ca7fe",
   "metadata": {},
   "source": [
    "Given a signed 32-bit interger `x`, return `x` _with its digits reversed_. If reversing `x` causes the value to go outside the signed 32-bit interger range $[-2^{31}, 2^{31} - 1 ]$, then return `0`.\n",
    "\n",
    "**Assume the environment does not allow you to store 64-bit integers (signed  or unsigned).**\n",
    "\n",
    "**Example 1:**\n",
    "```\n",
    "Input: x = 123\n",
    "Output: 321\n",
    "```\n",
    "\n",
    "**Example 2:**\n",
    "```\n",
    "Input: x = -123\n",
    "Output: -321\n",
    "```\n",
    "\n",
    "**Example 3:**\n",
    "```\n",
    "Input: x = 120\n",
    "Output: 21\n",
    "```\n",
    "\n",
    "**Constraints:**\n",
    "- `-231 <= x <= 231 - 1`"
   ]
  },
  {
   "cell_type": "code",
   "execution_count": 9,
   "id": "9489f35b-5ef1-4ce0-9511-d547798a6c43",
   "metadata": {
    "execution": {
     "iopub.execute_input": "2022-03-11T07:18:52.352783Z",
     "iopub.status.busy": "2022-03-11T07:18:52.352463Z",
     "iopub.status.idle": "2022-03-11T07:18:52.360749Z",
     "shell.execute_reply": "2022-03-11T07:18:52.359438Z",
     "shell.execute_reply.started": "2022-03-11T07:18:52.352750Z"
    },
    "tags": []
   },
   "outputs": [],
   "source": [
    "class Solution:\n",
    "    def reverse(self, x: int) -> int:\n",
    "        # define the minimum value and maximum value \n",
    "        \n",
    "        MIN: int = -2 ** 31\n",
    "        MAX: int = 2 ** 31 - 1 \n",
    "        \n",
    "        # define the result\n",
    "        \n",
    "        res: int = 0\n",
    "        \n",
    "        while x:\n",
    "            digit = int(math.fmod(x, 10))\n",
    "            x = int(x / 10)\n",
    "            \n",
    "            if (res > MAX // 10 or (res == MAX // 10 and digit >= MAX % 10)):\n",
    "                return 0\n",
    "            if (res < MIN // 10 or (res == MIN // 10 and digit <= MIN % 10)):\n",
    "                return 0\n",
    "            \n",
    "            res = (res * 10) + digit\n",
    "        \n",
    "        return res"
   ]
  },
  {
   "cell_type": "code",
   "execution_count": 10,
   "id": "4dab0404-891b-4632-92f6-c1d5c62de09f",
   "metadata": {
    "execution": {
     "iopub.execute_input": "2022-03-11T07:18:53.046408Z",
     "iopub.status.busy": "2022-03-11T07:18:53.046019Z",
     "iopub.status.idle": "2022-03-11T07:18:53.064744Z",
     "shell.execute_reply": "2022-03-11T07:18:53.063180Z",
     "shell.execute_reply.started": "2022-03-11T07:18:53.046357Z"
    },
    "tags": []
   },
   "outputs": [
    {
     "data": {
      "text/plain": [
       "321"
      ]
     },
     "execution_count": 10,
     "metadata": {},
     "output_type": "execute_result"
    }
   ],
   "source": [
    "Solution().reverse(123)"
   ]
  },
  {
   "cell_type": "code",
   "execution_count": 11,
   "id": "ea0a8ec6-f805-4a1c-a5f5-056ba8d79fb1",
   "metadata": {
    "execution": {
     "iopub.execute_input": "2022-03-11T07:19:31.464784Z",
     "iopub.status.busy": "2022-03-11T07:19:31.464450Z",
     "iopub.status.idle": "2022-03-11T07:19:31.472282Z",
     "shell.execute_reply": "2022-03-11T07:19:31.471302Z",
     "shell.execute_reply.started": "2022-03-11T07:19:31.464753Z"
    }
   },
   "outputs": [
    {
     "data": {
      "text/plain": [
       "-321"
      ]
     },
     "execution_count": 11,
     "metadata": {},
     "output_type": "execute_result"
    }
   ],
   "source": [
    "Solution().reverse(-123)"
   ]
  },
  {
   "cell_type": "code",
   "execution_count": 12,
   "id": "16ba54e4-3eab-4013-bfee-6e28160b85e6",
   "metadata": {
    "execution": {
     "iopub.execute_input": "2022-03-11T07:19:37.634269Z",
     "iopub.status.busy": "2022-03-11T07:19:37.633962Z",
     "iopub.status.idle": "2022-03-11T07:19:37.640045Z",
     "shell.execute_reply": "2022-03-11T07:19:37.639232Z",
     "shell.execute_reply.started": "2022-03-11T07:19:37.634239Z"
    }
   },
   "outputs": [
    {
     "data": {
      "text/plain": [
       "21"
      ]
     },
     "execution_count": 12,
     "metadata": {},
     "output_type": "execute_result"
    }
   ],
   "source": [
    "Solution().reverse(120)"
   ]
  },
  {
   "cell_type": "markdown",
   "id": "bdeda6d2-7041-49be-ac0a-95bb8d28f922",
   "metadata": {},
   "source": [
    "## 8. String to Integer (atoi)"
   ]
  },
  {
   "cell_type": "markdown",
   "id": "8b559589-d264-48de-862b-7883c573d467",
   "metadata": {},
   "source": [
    "Implement the `myAtoi(string s)` function, which converts a string to a 32-bit signed integer (similar to C/C++'s `atoi` function).\n",
    "\n",
    "The algorithm for `myAtoi(string s)` is as follows:\n",
    "\n",
    "Read in and ignore any leading whitespace.\n",
    "Check if the next character (if not already at the end of the string) is `'-'` or `'+'`. Read this character in if it is either. This determines if the final result is negative or positive respectively. Assume the result is positive if neither is present.\n",
    "Read in next the characters until the next non-digit character or the end of the input is reached. The rest of the string is ignored.\n",
    "Convert these digits into an integer (i.e. `\"123\"` -> `123`, `\"0032\"` -> `32`). If no digits were read, then the integer is `0`. Change the sign as necessary (from step 2).\n",
    "If the integer is out of the 32-bit signed integer range $[-2^{31}, 2^{31} - 1]$, then clamp the integer so that it remains in the range. Specifically, integers less than $-2^{31}$ should be clamped to $-2^{31}$, and integers greater than $2^{31} - 1$ should be clamped to $2^{31} - 1$.\n",
    "Return the integer as the final result.\n",
    "Note:\n",
    "\n",
    "Only the space character `' '` is considered a whitespace character.\n",
    "Do not ignore any characters other than the leading whitespace or the rest of the string after the digits.\n",
    " \n",
    "\n",
    "**Example 1:**\n",
    "```\n",
    "Input: s = \"42\"\n",
    "Output: 42\n",
    "Explanation: The underlined characters are what is read in, the caret is the current reader position.\n",
    "Step 1: \"42\" (no characters read because there is no leading whitespace)\n",
    "         ^\n",
    "Step 2: \"42\" (no characters read because there is neither a '-' nor '+')\n",
    "         ^\n",
    "Step 3: \"42\" (\"42\" is read in)\n",
    "           ^\n",
    "The parsed integer is 42.\n",
    "Since 42 is in the range [-231, 231 - 1], the final result is 42.\n",
    "```\n",
    "\n",
    "**Example 2:**\n",
    "```\n",
    "Input: s = \"   -42\"\n",
    "Output: -42\n",
    "Explanation:\n",
    "Step 1: \"   -42\" (leading whitespace is read and ignored)\n",
    "            ^\n",
    "Step 2: \"   -42\" ('-' is read, so the result should be negative)\n",
    "             ^\n",
    "Step 3: \"   -42\" (\"42\" is read in)\n",
    "               ^\n",
    "The parsed integer is -42.\n",
    "Since -42 is in the range [-231, 231 - 1], the final result is -42.\n",
    "```\n",
    "\n",
    "**Example 3:**\n",
    "```\n",
    "Input: s = \"4193 with words\"\n",
    "Output: 4193\n",
    "Explanation:\n",
    "Step 1: \"4193 with words\" (no characters read because there is no leading whitespace)\n",
    "         ^\n",
    "Step 2: \"4193 with words\" (no characters read because there is neither a '-' nor '+')\n",
    "         ^\n",
    "Step 3: \"4193 with words\" (\"4193\" is read in; reading stops because the next character is a non-digit)\n",
    "             ^\n",
    "The parsed integer is 4193.\n",
    "Since 4193 is in the range [-231, 231 - 1], the final result is 4193.\n",
    "```\n",
    "\n",
    "**Constraints:**\n",
    "- 0 <= s.length <= 200\n",
    "- `s` consists of English letters (lower-case and upper-case), digits (0-9), ' ', '+', '-', and '.'."
   ]
  },
  {
   "cell_type": "code",
   "execution_count": 105,
   "id": "449446a7-6892-4960-92b3-1225aa42b9aa",
   "metadata": {
    "execution": {
     "iopub.execute_input": "2022-03-11T07:59:42.734811Z",
     "iopub.status.busy": "2022-03-11T07:59:42.734373Z",
     "iopub.status.idle": "2022-03-11T07:59:42.743429Z",
     "shell.execute_reply": "2022-03-11T07:59:42.742619Z",
     "shell.execute_reply.started": "2022-03-11T07:59:42.734780Z"
    },
    "tags": []
   },
   "outputs": [],
   "source": [
    "class Solution:\n",
    "    def myAtoi(self, input: str) -> int:\n",
    "        sign = 1 \n",
    "        result = 0\n",
    "        index = 0\n",
    "        n = len(input)\n",
    "        \n",
    "        INT_MAX = pow(2,31) - 1 \n",
    "        INT_MIN = -pow(2,31)\n",
    "        \n",
    "        # Discard all spaces from the beginning of the input string.\n",
    "        while index < n and input[index] == ' ':\n",
    "            index += 1\n",
    "        \n",
    "        # sign = +1, if it's positive number, otherwise sign = -1. \n",
    "        if index < n and input[index] == '+':\n",
    "            sign = 1\n",
    "            index += 1\n",
    "        elif index < n and input[index] == '-':\n",
    "            sign = -1\n",
    "            index += 1\n",
    "        \n",
    "        # Traverse next digits of input and stop if it is not a digit. \n",
    "        # End of string is also non-digit character.\n",
    "        while index < n and input[index].isdigit():\n",
    "            digit = int(input[index])\n",
    "            \n",
    "            # Check overflow and underflow conditions. \n",
    "            if ((result > INT_MAX // 10) or (result == INT_MAX // 10 and digit > INT_MAX % 10)):\n",
    "                # If integer overflowed return 2^31-1, otherwise if underflowed return -2^31.    \n",
    "                return INT_MAX if sign == 1 else INT_MIN\n",
    "            \n",
    "            # Append current digit to the result.\n",
    "            result = 10 * result + digit\n",
    "            index += 1\n",
    "        \n",
    "        # We have formed a valid number without any overflow/underflow.\n",
    "        # Return it after multiplying it with its sign.\n",
    "        return sign * result"
   ]
  },
  {
   "cell_type": "code",
   "execution_count": 99,
   "id": "d3ba4c1c-51ed-4374-942f-12c58ec9c5e1",
   "metadata": {
    "execution": {
     "iopub.execute_input": "2022-03-11T07:59:29.642018Z",
     "iopub.status.busy": "2022-03-11T07:59:29.641719Z",
     "iopub.status.idle": "2022-03-11T07:59:29.647592Z",
     "shell.execute_reply": "2022-03-11T07:59:29.646763Z",
     "shell.execute_reply.started": "2022-03-11T07:59:29.641987Z"
    },
    "tags": []
   },
   "outputs": [
    {
     "data": {
      "text/plain": [
       "42"
      ]
     },
     "execution_count": 99,
     "metadata": {},
     "output_type": "execute_result"
    }
   ],
   "source": [
    "Solution().myAtoi(\"42\")"
   ]
  },
  {
   "cell_type": "code",
   "execution_count": 100,
   "id": "488484a9-b175-43c4-89cb-34c65352c0e6",
   "metadata": {
    "execution": {
     "iopub.execute_input": "2022-03-11T07:59:29.849660Z",
     "iopub.status.busy": "2022-03-11T07:59:29.849345Z",
     "iopub.status.idle": "2022-03-11T07:59:29.855224Z",
     "shell.execute_reply": "2022-03-11T07:59:29.854224Z",
     "shell.execute_reply.started": "2022-03-11T07:59:29.849629Z"
    },
    "tags": []
   },
   "outputs": [
    {
     "data": {
      "text/plain": [
       "-42"
      ]
     },
     "execution_count": 100,
     "metadata": {},
     "output_type": "execute_result"
    }
   ],
   "source": [
    "Solution().myAtoi(\"-42\")"
   ]
  },
  {
   "cell_type": "code",
   "execution_count": 101,
   "id": "bfbac2aa-451f-48c0-a061-5e8345d934e3",
   "metadata": {
    "execution": {
     "iopub.execute_input": "2022-03-11T07:59:30.021209Z",
     "iopub.status.busy": "2022-03-11T07:59:30.020913Z",
     "iopub.status.idle": "2022-03-11T07:59:30.028281Z",
     "shell.execute_reply": "2022-03-11T07:59:30.027215Z",
     "shell.execute_reply.started": "2022-03-11T07:59:30.021178Z"
    },
    "tags": []
   },
   "outputs": [
    {
     "data": {
      "text/plain": [
       "4319"
      ]
     },
     "execution_count": 101,
     "metadata": {},
     "output_type": "execute_result"
    }
   ],
   "source": [
    "Solution().myAtoi(\"4319 with words\")"
   ]
  },
  {
   "cell_type": "code",
   "execution_count": 102,
   "id": "068b9cb8-66d3-46e3-b645-f6cc3d370f0f",
   "metadata": {
    "execution": {
     "iopub.execute_input": "2022-03-11T07:59:30.246268Z",
     "iopub.status.busy": "2022-03-11T07:59:30.245829Z",
     "iopub.status.idle": "2022-03-11T07:59:30.251590Z",
     "shell.execute_reply": "2022-03-11T07:59:30.250847Z",
     "shell.execute_reply.started": "2022-03-11T07:59:30.246236Z"
    },
    "tags": []
   },
   "outputs": [
    {
     "data": {
      "text/plain": [
       "2147483647"
      ]
     },
     "execution_count": 102,
     "metadata": {},
     "output_type": "execute_result"
    }
   ],
   "source": [
    "Solution().myAtoi(\"2147483648\")"
   ]
  },
  {
   "cell_type": "code",
   "execution_count": null,
   "id": "f1f7301f-b435-44fa-a1c3-2299f777f17e",
   "metadata": {
    "tags": []
   },
   "outputs": [],
   "source": []
  },
  {
   "cell_type": "code",
   "execution_count": null,
   "id": "9558c6f4-5a00-43c6-b7ec-ff853f38178a",
   "metadata": {},
   "outputs": [],
   "source": []
  }
 ],
 "metadata": {
  "kernelspec": {
   "display_name": "Python 3",
   "language": "python",
   "name": "python3"
  },
  "language_info": {
   "codemirror_mode": {
    "name": "ipython",
    "version": 3
   },
   "file_extension": ".py",
   "mimetype": "text/x-python",
   "name": "python",
   "nbconvert_exporter": "python",
   "pygments_lexer": "ipython3",
   "version": "3.9.2"
  },
  "widgets": {
   "application/vnd.jupyter.widget-state+json": {
    "state": {},
    "version_major": 2,
    "version_minor": 0
   }
  }
 },
 "nbformat": 4,
 "nbformat_minor": 5
}
